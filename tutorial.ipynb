{
 "cells": [
  {
   "cell_type": "code",
   "execution_count": null,
   "id": "d5c1ff33",
   "metadata": {},
   "outputs": [],
   "source": [
    "import gdspy\n",
    "gdsii = gdspy.GdsLibrary(infile='MEA59.gds')\n",
    "\n",
    "electrode = gdsii.cells['MEA_Standard']\n",
    "# get all polygons in the cell\n",
    "polygons = electrode.polygons\n",
    "# get polygons with 64 points\n",
    "polygons_64 = [p for p in polygons if len(p.polygons[0]) == 64]\n",
    "# get positions of the polygons\n",
    "def get_center(bouding_box):\n",
    "    #ounding box of this polygon in the form [[x_min, y_min], [x_max, y_max]], or None if the polygon is empty.\n",
    "    return ((bouding_box[0][0] + bouding_box[1][0]) / 2, (bouding_box[0][1] + bouding_box[1][1]) / 2)\n",
    "electrode_positions = [get_center(p.get_bounding_box()) for p in polygons_64]\n",
    "\n",
    "# add black dots to this positions \n",
    "# confirmation that it works\n",
    "for pos in electrode_positions:\n",
    "    dot = gdspy.Round(pos, radius=0.1, inner_radius=0, number_of_points=16, layer=0)\n",
    "    electrode.add(dot)\n",
    "gdsii.write_gds('first_with_dots.gds')"
   ]
  },
  {
   "cell_type": "code",
   "execution_count": null,
   "id": "677d6dde",
   "metadata": {},
   "outputs": [],
   "source": [
    "# trying different file\n",
    "\n",
    "gdsii = gdspy.GdsLibrary(infile='MEA59.gds')\n",
    "\n",
    "electrode = gdsii.cells['MEA_Standard']\n",
    "# get all polygons in the cell\n",
    "polygons = electrode.polygons\n",
    "# get polygons with 64 points\n",
    "polygons_64 = [p for p in polygons if len(p.polygons[0]) == 64]\n",
    "# get positions of the polygons\n",
    "def get_center(bouding_box):\n",
    "    #ounding box of this polygon in the form [[x_min, y_min], [x_max, y_max]], or None if the polygon is empty.\n",
    "    return ((bouding_box[0][0] + bouding_box[1][0]) / 2, (bouding_box[0][1] + bouding_box[1][1]) / 2)\n",
    "electrode_positions = [get_center(p.get_bounding_box()) for p in polygons_64]\n",
    "\n",
    "# add black dots to this positions \n",
    "# confirmation that it works\n",
    "for pos in electrode_positions:\n",
    "    dot = gdspy.Round(pos, radius=0.1, inner_radius=0, number_of_points=16, layer=0)\n",
    "    electrode.add(dot)\n",
    "gdsii.write_gds('first_with_dots.gds')"
   ]
  },
  {
   "cell_type": "code",
   "execution_count": 6,
   "id": "a7eab5a6",
   "metadata": {},
   "outputs": [
    {
     "name": "stdout",
     "output_type": "stream",
     "text": [
      "dict_keys(['Electrode', 'MEA_128'])\n"
     ]
    }
   ],
   "source": [
    "import gdspy \n",
    "\n",
    "\n",
    "gdsii = gdspy.GdsLibrary(infile='MEA128_cur.gds')\n",
    "\n",
    "print(gdsii.cells.keys())"
   ]
  }
 ],
 "metadata": {
  "kernelspec": {
   "display_name": ".venv",
   "language": "python",
   "name": "python3"
  },
  "language_info": {
   "codemirror_mode": {
    "name": "ipython",
    "version": 3
   },
   "file_extension": ".py",
   "mimetype": "text/x-python",
   "name": "python",
   "nbconvert_exporter": "python",
   "pygments_lexer": "ipython3",
   "version": "3.13.5"
  }
 },
 "nbformat": 4,
 "nbformat_minor": 5
}
